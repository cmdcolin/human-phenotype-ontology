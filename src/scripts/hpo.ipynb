{
 "cells": [
  {
   "cell_type": "code",
   "execution_count": null,
   "metadata": {},
   "outputs": [],
   "source": [
    "from neo4j import GraphDatabase\n",
    "\n",
    "# Connect to the Neo4j database\n",
    "driver = GraphDatabase.driver(\"bolt://neo4j-bolt.monarchinitiative.org:7687\")\n",
    "\n",
    "# Define the Cypher query\n",
    "query = \"\"\"\n",
    "MATCH\n",
    "  (upheno:`biolink:PhenotypicFeature` WHERE upheno.id STARTS WITH \"UPHENO:\")<-[:`biolink:subclass_of`]-(mouse_pheno:`biolink:PhenotypicFeature`)<-[:`biolink:has_phenotype`]-(mouse_gene:`biolink:Gene` where \"NCBITaxon:10090\" in mouse_gene.in_taxon)-[:`biolink:orthologous_to`]-(human_gene:`biolink:Gene` where \"NCBITaxon:9606\" in human_gene.in_taxon)\n",
    "RETURN upheno.id, mouse_pheno.id, mouse_gene.id, human_gene.id\n",
    "\"\"\"\n",
    "\n",
    "# Run the query and print the results\n",
    "with driver.session() as session:\n",
    "    results = session.run(query)\n",
    "    for record in results:\n",
    "        print('\\t'.join(record))"
   ]
  }
 ],
 "metadata": {
  "language_info": {
   "name": "python"
  }
 },
 "nbformat": 4,
 "nbformat_minor": 2
}
